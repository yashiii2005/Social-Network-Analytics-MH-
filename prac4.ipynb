{
 "cells": [
  {
   "cell_type": "code",
   "execution_count": 1,
   "id": "1d239f07-1662-4b2b-97f7-914c849c208f",
   "metadata": {},
   "outputs": [],
   "source": [
    "# SECTION 1: Import required libraries\n",
    "import networkx as nx   # For network analysis\n",
    "import pandas as pd     # For tabular operations and correlation computation\n",
    "import numpy as np      # For numeric handling\n"
   ]
  },
  {
   "cell_type": "code",
   "execution_count": 2,
   "id": "a21851b8-10f7-45c4-a98a-9e1e59e7131a",
   "metadata": {},
   "outputs": [],
   "source": [
    "# SECTION 2: Generate or load the network graph.\n",
    "# Example: Create a random graph or load from file\n",
    "\n",
    "G = nx.erdos_renyi_graph(n=20, p=0.2, seed=42)  # Change as needed for your own data\n",
    "\n",
    "# Uncomment the next line to load from your own edge list file\n",
    "# G = nx.read_edgelist('your_edge_list.txt')\n"
   ]
  },
  {
   "cell_type": "code",
   "execution_count": null,
   "id": "c3aa23fa-1b95-4015-98f7-823161f532cf",
   "metadata": {},
   "outputs": [],
   "source": [
    "# SECTION 3: Calculate various centrality measures\n",
    "\n",
    "degree_centrality = nx.degree_centrality(G)\n",
    "betweenness_centrality = nx.betweenness_centrality(G)\n",
    "closeness_centrality = nx.closeness_centrality(G)\n",
    "eigenvector_centrality = nx.eigenvector_centrality(G, max_iter=1000)\n",
    "pagerank = nx.pagerank(G)\n"
   ]
  },
  {
   "cell_type": "code",
   "execution_count": null,
   "id": "f6a87bbc-f050-4926-82e5-ed9698ebed0e",
   "metadata": {},
   "outputs": [],
   "source": [
    "# SECTION 4: Identify top-N nodes for each measure\n",
    "N = 5  # Change this for desired number of top nodes\n",
    "\n",
    "def top_n_nodes(centrality_dict, n=N):\n",
    "    return sorted(centrality_dict.items(), key=lambda x: x[1], reverse=True)[:n]\n",
    "\n",
    "top_deg = top_n_nodes(degree_centrality)\n",
    "top_bet = top_n_nodes(betweenness_centrality)\n",
    "top_close = top_n_nodes(closeness_centrality)\n",
    "top_eigen = top_n_nodes(eigenvector_centrality)\n",
    "top_pagerank = top_n_nodes(pagerank)\n",
    "\n",
    "for label, top_nodes in [('Degree', top_deg), ('Betweenness', top_bet),\n",
    "                         ('Closeness', top_close), ('Eigenvector', top_eigen),\n",
    "                         ('PageRank', top_pagerank)]:\n",
    "    print(f\"Top {N} nodes by {label} Centrality:\")\n",
    "    for node, score in top_nodes:\n",
    "        print(f\"\\tNode: {node} \\tScore: {score:.4f}\")\n",
    "    print()\n"
   ]
  },
  {
   "cell_type": "code",
   "execution_count": null,
   "id": "2fa02445-982f-476a-9e30-ce69997f4b2e",
   "metadata": {},
   "outputs": [],
   "source": [
    "# SECTION 5: Compute rank correlations (Spearman & Kendall) with PageRank using pandas\n",
    "\n",
    "nodes_sorted = sorted(G.nodes())\n",
    "pagerank_scores = [pagerank[n] for n in nodes_sorted]\n",
    "\n",
    "for cname, cent_dict in [\n",
    "    (\"Degree\", degree_centrality),\n",
    "    (\"Betweenness\", betweenness_centrality),\n",
    "    (\"Closeness\", closeness_centrality),\n",
    "    (\"Eigenvector\", eigenvector_centrality)\n",
    "]:\n",
    "    cent_scores = [cent_dict[n] for n in nodes_sorted]\n",
    "    s1 = pd.Series(cent_scores)\n",
    "    s2 = pd.Series(pagerank_scores)\n",
    "    spearman_corr = s1.corr(s2, method='spearman')\n",
    "    kendall_corr = s1.corr(s2, method='kendall')\n",
    "    print(f\"{cname} Centrality vs. PageRank -- Spearman: {spearman_corr:.4f}, Kendall: {kendall_corr:.4f}\")\n"
   ]
  }
 ],
 "metadata": {
  "kernelspec": {
   "display_name": "Python 3 (ipykernel)",
   "language": "python",
   "name": "python3"
  },
  "language_info": {
   "codemirror_mode": {
    "name": "ipython",
    "version": 3
   },
   "file_extension": ".py",
   "mimetype": "text/x-python",
   "name": "python",
   "nbconvert_exporter": "python",
   "pygments_lexer": "ipython3",
   "version": "3.13.5"
  }
 },
 "nbformat": 4,
 "nbformat_minor": 5
}
